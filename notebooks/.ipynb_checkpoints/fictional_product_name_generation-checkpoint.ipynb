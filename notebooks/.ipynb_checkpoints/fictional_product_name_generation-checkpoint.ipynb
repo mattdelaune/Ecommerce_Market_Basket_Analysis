{
 "cells": [
  {
   "cell_type": "markdown",
   "id": "c169fde7-4506-457b-84d1-a68fdd6fe693",
   "metadata": {},
   "source": [
    "# Fictional Product Name Generation and Mapping\n",
    "\n",
    "For us to produce meaningful insights with our analysis, we need to augment the dataset with product names. We'll do this by extracting the unique categories from the amazon_products table and creating a dictionary of fictional names for each one. We'll then map the names to identifiers and save this as a separate CSV."
   ]
  },
  {
   "cell_type": "markdown",
   "id": "b07967ba-a888-4cdf-8def-6f880f54ce1e",
   "metadata": {},
   "source": [
    "## 1. Load the Provided Datasets\r\n"
   ]
  },
  {
   "cell_type": "code",
   "execution_count": 1,
   "id": "6de549b0-7ba1-477d-9381-3f8fb141e0e0",
   "metadata": {},
   "outputs": [
    {
     "name": "stdout",
     "output_type": "stream",
     "text": [
      "              order_id              sku    style       category size  \\\n",
      "0  405-8078784-5731545   SET389-KR-NP-S   SET389            Set    S   \n",
      "1  171-9198151-1101146  JNE3781-KR-XXXL  JNE3781          kurta  3XL   \n",
      "2  404-0687676-7273146    JNE3371-KR-XL  JNE3371          kurta   XL   \n",
      "3  403-9615377-8133951       J0341-DR-L    J0341  Western Dress    L   \n",
      "4  407-1069790-7240320  JNE3671-TU-XXXL  JNE3671            Top  3XL   \n",
      "\n",
      "         asin  qty  amount  \n",
      "0  B09KXVBD7Z    0  647.62  \n",
      "1  B09K3WFS32    1  406.00  \n",
      "2  B07WV4JV4D    1  329.00  \n",
      "3  B099NRCT7B    0  753.33  \n",
      "4  B098714BZP    1  574.00  \n",
      "              order_id        date                        status fulfillment  \\\n",
      "0  405-8078784-5731545  2022-04-30                     Cancelled    Merchant   \n",
      "1  171-9198151-1101146  2022-04-30  Shipped - Delivered to Buyer    Merchant   \n",
      "2  404-0687676-7273146  2022-04-30                       Shipped      Amazon   \n",
      "3  403-9615377-8133951  2022-04-30                     Cancelled    Merchant   \n",
      "4  407-1069790-7240320  2022-04-30                       Shipped      Amazon   \n",
      "\n",
      "  sales_channel ship_service_level courier_status currency  amount  \\\n",
      "0     Amazon.in           Standard            NaN      INR  647.62   \n",
      "1     Amazon.in           Standard        Shipped      INR  406.00   \n",
      "2     Amazon.in          Expedited        Shipped      INR  329.00   \n",
      "3     Amazon.in           Standard            NaN      INR  753.33   \n",
      "4     Amazon.in          Expedited        Shipped      INR  574.00   \n",
      "\n",
      "     ship_city   ship_state  ship_postal_code ship_country  \\\n",
      "0       MUMBAI  MAHARASHTRA          400081.0           IN   \n",
      "1    BENGALURU    KARNATAKA          560085.0           IN   \n",
      "2  NAVI MUMBAI  MAHARASHTRA          410210.0           IN   \n",
      "3   PUDUCHERRY   PUDUCHERRY          605008.0           IN   \n",
      "4      CHENNAI   TAMIL NADU          600073.0           IN   \n",
      "\n",
      "                                       promotion_ids    b2b fulfilled_by  \n",
      "0                                                NaN  False    Easy Ship  \n",
      "1  Amazon PLCC Free-Financing Universal Merchant ...  False    Easy Ship  \n",
      "2       IN Core Free Shipping 2015/04/08 23-48-5-108   True          NaN  \n",
      "3                                                NaN  False    Easy Ship  \n",
      "4                                                NaN  False          NaN  \n",
      "               sku    style       category size        asin\n",
      "0   SET389-KR-NP-S   SET389            Set    S  B09KXVBD7Z\n",
      "1  JNE3781-KR-XXXL  JNE3781          kurta  3XL  B09K3WFS32\n",
      "2    JNE3371-KR-XL  JNE3371          kurta   XL  B07WV4JV4D\n",
      "3       J0341-DR-L    J0341  Western Dress    L  B099NRCT7B\n",
      "4  JNE3671-TU-XXXL  JNE3671            Top  3XL  B098714BZP\n"
     ]
    }
   ],
   "source": [
    "import pandas as pd\n",
    "import os\n",
    "\n",
    "# Load the provided datasets\n",
    "amazon_order_items = pd.read_csv(r'C:\\Users\\matth\\ecommerce_mba_project\\data\\cleaned\\amazon_order_items_cleaned.csv')\n",
    "amazon_orders = pd.read_csv(r'C:\\Users\\matth\\ecommerce_mba_project\\data\\cleaned\\amazon_orders_cleaned.csv')\n",
    "amazon_products = pd.read_csv(r'C:\\Users\\matth\\ecommerce_mba_project\\data\\cleaned\\amazon_products_cleaned.csv')\n",
    "\n",
    "# Display the first few rows of each dataset to understand the structure\n",
    "print(amazon_order_items.head())\n",
    "print(amazon_orders.head())\n",
    "print(amazon_products.head())\n"
   ]
  },
  {
   "cell_type": "markdown",
   "id": "72f1e223-39e4-427d-8977-ba9586456184",
   "metadata": {},
   "source": [
    "## 2. Identify Unique Product Identifiers"
   ]
  },
  {
   "cell_type": "code",
   "execution_count": 2,
   "id": "38b49427-d8cb-48aa-b26e-aa257a464af9",
   "metadata": {},
   "outputs": [
    {
     "name": "stdout",
     "output_type": "stream",
     "text": [
      "Unique Categories:\n",
      "Set\n",
      "kurta\n",
      "Western Dress\n",
      "Top\n",
      "Ethnic Dress\n",
      "Bottom\n",
      "Saree\n",
      "Blouse\n",
      "Dupatta\n",
      "Kurta\n",
      "Kurta Set\n",
      "Gown\n",
      "Tops\n",
      "Unknown\n"
     ]
    }
   ],
   "source": [
    "# Extract unique categories from the amazon_products dataset\n",
    "unique_products = amazon_products['sku'].unique()\n",
    "unique_categories = amazon_products['category'].unique()\n",
    "\n",
    "print(\"Unique Categories:\")\n",
    "for category in unique_categories:\n",
    "    print(category)\n"
   ]
  },
  {
   "cell_type": "markdown",
   "id": "7593b1ab-373d-491f-b5c3-a065bfc16f2f",
   "metadata": {},
   "source": [
    "## 3. Generate Fictional Product Names for Each Category\n",
    "\n",
    "We'll create a dictionary of fictional product names for each unique category"
   ]
  },
  {
   "cell_type": "code",
   "execution_count": 3,
   "id": "8681de87-a324-4e0d-b936-0514bee8b2ee",
   "metadata": {},
   "outputs": [
    {
     "name": "stdout",
     "output_type": "stream",
     "text": [
      "               sku       category    product_name\n",
      "0   SET389-KR-NP-S            Set    Designer Set\n",
      "1  JNE3781-KR-XXXL          kurta  Designer Kurta\n",
      "2    JNE3371-KR-XL          kurta   Stylish Kurta\n",
      "3       J0341-DR-L  Western Dress    Casual Dress\n",
      "4  JNE3671-TU-XXXL            Top      Summer Top\n"
     ]
    }
   ],
   "source": [
    "import random\n",
    "\n",
    "# Define fictional product names based on identified categories\n",
    "product_names = {\n",
    "    'Set': ['Elegant Set', 'Designer Set', 'Casual Set', 'Formal Set'],\n",
    "    'kurta': ['Stylish Kurta', 'Cotton Kurta', 'Designer Kurta', 'Casual Kurta'],\n",
    "    'Western Dress': ['Evening Dress', 'Cocktail Dress', 'Summer Dress', 'Casual Dress'],\n",
    "    'Top': ['Summer Top', 'Designer Top', 'Casual Top', 'Formal Top'],\n",
    "    'Ethnic Dress': ['Traditional Dress', 'Festival Dress', 'Designer Ethnic Dress', 'Casual Ethnic Dress'],\n",
    "    'Bottom': ['Jeans', 'Chinos', 'Shorts', 'Leggings'],\n",
    "    'Saree': ['Silk Saree', 'Cotton Saree', 'Designer Saree', 'Casual Saree'],\n",
    "    'Blouse': ['Designer Blouse', 'Cotton Blouse', 'Silk Blouse', 'Casual Blouse'],\n",
    "    'Dupatta': ['Silk Dupatta', 'Cotton Dupatta', 'Designer Dupatta', 'Casual Dupatta'],\n",
    "    'Kurta': ['Designer Kurta', 'Cotton Kurta', 'Silk Kurta', 'Casual Kurta'],\n",
    "    'Kurta Set': ['Designer Kurta Set', 'Cotton Kurta Set', 'Silk Kurta Set', 'Casual Kurta Set'],\n",
    "    'Gown': ['Evening Gown', 'Wedding Gown', 'Designer Gown', 'Casual Gown'],\n",
    "    'Tops': ['Summer Top', 'Designer Top', 'Casual Top', 'Formal Top'],\n",
    "    'Unknown': ['Miscellaneous Item', 'Unspecified Product', 'Unknown Item', 'Generic Product']\n",
    "}\n",
    "\n",
    "# Create a mapping DataFrame for the products\n",
    "product_mapping = []\n",
    "\n",
    "for product in unique_products:\n",
    "    category = amazon_products.loc[amazon_products['sku'] == product, 'category'].values[0]\n",
    "    if category in product_names:\n",
    "        name = random.choice(product_names[category])\n",
    "        product_mapping.append({'sku': product, 'category': category, 'product_name': name})\n",
    "\n",
    "product_mapping_df = pd.DataFrame(product_mapping)\n",
    "\n",
    "print(product_mapping_df.head())\n"
   ]
  },
  {
   "cell_type": "markdown",
   "id": "150c7fd8-b427-4eeb-ace7-6f1da2e54b0c",
   "metadata": {},
   "source": [
    "## 4. Map Fictional Product Names to Identifiers in amazon_products_cleaned and save new csv"
   ]
  },
  {
   "cell_type": "code",
   "execution_count": 4,
   "id": "5f8c1f9b-4545-481c-9eb5-99ef9a8db361",
   "metadata": {},
   "outputs": [
    {
     "name": "stdout",
     "output_type": "stream",
     "text": [
      "               sku    style       category size        asin    product_name\n",
      "0   SET389-KR-NP-S   SET389            Set    S  B09KXVBD7Z    Designer Set\n",
      "1  JNE3781-KR-XXXL  JNE3781          kurta  3XL  B09K3WFS32  Designer Kurta\n",
      "2    JNE3371-KR-XL  JNE3371          kurta   XL  B07WV4JV4D   Stylish Kurta\n",
      "3       J0341-DR-L    J0341  Western Dress    L  B099NRCT7B    Casual Dress\n",
      "4  JNE3671-TU-XXXL  JNE3671            Top  3XL  B098714BZP      Summer Top\n"
     ]
    }
   ],
   "source": [
    "# Merge the product names with the amazon_products dataset\n",
    "amazon_products_with_names = amazon_products.merge(product_mapping_df, on='sku', how='left')\n",
    "\n",
    "# Drop one of the redundant category columns and rename the remaining one\n",
    "if 'category_y' in amazon_products_with_names.columns:\n",
    "    amazon_products_with_names.drop(columns=['category_y'], inplace=True)\n",
    "    amazon_products_with_names.rename(columns={'category_x': 'category'}, inplace=True)\n",
    "\n",
    "# Save the updated dataset to a new CSV file\n",
    "amazon_products_with_names.to_csv(r'C:\\Users\\matth\\ecommerce_mba_project\\data\\cleaned\\amazon_products_with_names.csv', index=False)\n",
    "\n",
    "# Display the first few rows of the updated dataset\n",
    "print(amazon_products_with_names.head())\n"
   ]
  }
 ],
 "metadata": {
  "kernelspec": {
   "display_name": "Python (minimal_ds)",
   "language": "python",
   "name": "minimal_ds"
  },
  "language_info": {
   "codemirror_mode": {
    "name": "ipython",
    "version": 3
   },
   "file_extension": ".py",
   "mimetype": "text/x-python",
   "name": "python",
   "nbconvert_exporter": "python",
   "pygments_lexer": "ipython3",
   "version": "3.10.12"
  }
 },
 "nbformat": 4,
 "nbformat_minor": 5
}
